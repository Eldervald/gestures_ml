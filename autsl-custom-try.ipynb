{
 "cells": [
  {
   "cell_type": "code",
   "execution_count": 1,
   "id": "04b19ad7-3dc8-45d3-9f3e-3056222a3c03",
   "metadata": {
    "tags": []
   },
   "outputs": [
    {
     "name": "stdout",
     "output_type": "stream",
     "text": [
      "Untitled.ipynb\t\t\t\t    fit-adv_profiler_logs.txt\n",
      "Untitled1.ipynb\t\t\t\t    fit-prof.txt\n",
      "__pycache__\t\t\t\t    fit-profiler_logs.txt\n",
      "arcface.py\t\t\t\t    gest.zip\n",
      "asl-sign-detection-pytorch-lightning.ipynb  gestures\n",
      "autsl-custom-try.ipynb\t\t\t    mytestfile.hdf5\n",
      "baseline.ckpt\t\t\t\t    pizdec.ipynb\n",
      "data\t\t\t\t\t    prof_logs\n",
      "ds.py\t\t\t\t\t    requirements.txt\n",
      "ds_preprocess.ipynb\t\t\t    test.npy\n",
      "effnetb1_226cls_arcface256.ckpt\t\t    untitled.txt\n",
      "effnetb1_226cls_arcface512.ckpt\t\t    wandb\n"
     ]
    }
   ],
   "source": [
    "# %cd gestures/\n",
    "!ls"
   ]
  },
  {
   "cell_type": "code",
   "execution_count": 2,
   "id": "3ede530c-ba4a-4dda-a3a1-bac3efdf7703",
   "metadata": {
    "tags": []
   },
   "outputs": [],
   "source": [
    "# pip list"
   ]
  },
  {
   "cell_type": "code",
   "execution_count": 3,
   "id": "b6ea2611-2439-4814-bb09-131df6528d78",
   "metadata": {
    "tags": []
   },
   "outputs": [
    {
     "name": "stdout",
     "output_type": "stream",
     "text": [
      "CPU times: user 4.63 s, sys: 1.08 s, total: 5.72 s\n",
      "Wall time: 42.7 s\n"
     ]
    }
   ],
   "source": [
    "%%time\n",
    "from tqdm.notebook import tqdm\n",
    "import torch\n",
    "from torch import nn, optim\n",
    "from torch.nn import functional as F\n",
    "from matplotlib import pyplot as plt\n",
    "import numpy as np\n",
    "from torchvision.datasets import ImageFolder\n",
    "import albumentations as A\n",
    "from albumentations.pytorch import ToTensorV2\n",
    "import cv2\n",
    "from torch.utils.data import DataLoader, random_split, Dataset\n",
    "import pytorch_lightning as pl\n",
    "from torchvision.models import regnet_y_400mf, RegNet_Y_400MF_Weights, efficientnet_b1, EfficientNet_B1_Weights\n",
    "from pytorch_lightning.loggers import TensorBoardLogger, WandbLogger\n",
    "from arcface import ArcFaceLoss\n",
    "import graphviz\n",
    "from torchmetrics.classification import MulticlassAUROC, MulticlassAccuracy, MulticlassConfusionMatrix\n",
    "from torchvision import transforms as T\n",
    "import json\n",
    "import pandas as pd\n",
    "import os\n",
    "import seaborn as sns\n",
    "\n",
    "\n",
    "from pytorch_lightning.callbacks import LearningRateMonitor\n",
    "torch.set_float32_matmul_precision(\"medium\")\n",
    "\n",
    "from pytorch_grad_cam.utils.image import show_cam_on_image, preprocess_image\n",
    "from pytorch_grad_cam import GradCAM"
   ]
  },
  {
   "cell_type": "code",
   "execution_count": 4,
   "id": "275416c3-4875-442f-b59a-04f2dd1c9616",
   "metadata": {
    "tags": []
   },
   "outputs": [],
   "source": [
    "# pip freeze > requirements.txt"
   ]
  },
  {
   "cell_type": "code",
   "execution_count": 5,
   "id": "2c6beef7-bc04-4ffc-b212-7f76cdc673d6",
   "metadata": {
    "tags": []
   },
   "outputs": [],
   "source": [
    "# import warnings\n",
    "# warnings.filterwarnings('ignore')\n",
    "# warnings.simplefilter('ignore')"
   ]
  },
  {
   "cell_type": "code",
   "execution_count": 6,
   "id": "a587e6f8-7760-4893-899b-c405fe9f1fb4",
   "metadata": {
    "tags": []
   },
   "outputs": [
    {
     "name": "stdout",
     "output_type": "stream",
     "text": [
      "GPU:0\n",
      "no processes are running\n"
     ]
    }
   ],
   "source": [
    "# torch.cuda.empty_cache()\n",
    "print(torch.cuda.list_gpu_processes())"
   ]
  },
  {
   "cell_type": "markdown",
   "id": "49a7e43c-9291-42f7-9f6c-74149146687a",
   "metadata": {
    "tags": []
   },
   "source": [
    "### Dataset"
   ]
  },
  {
   "cell_type": "code",
   "execution_count": 7,
   "id": "873c43d0-7de8-4d46-b2f4-215dce9c3630",
   "metadata": {
    "tags": []
   },
   "outputs": [],
   "source": [
    "MODEL_RESIZE_SIZE = 550\n",
    "MODEL_INPUT_SIZE = 500\n",
    "\n",
    "frame_transform = {\n",
    "    'train':A.Compose([\n",
    "        # A.HueSaturationValue(50, 50, 40,p=1.0),\n",
    "        A.ToFloat(255),\n",
    "        A.LongestMaxSize(max_size=MODEL_RESIZE_SIZE),\n",
    "        # A.GaussNoise(var_limit=(0.0, 0.04),p=0.9),\n",
    "        # # A.GaussianBlur(p=0.6, blur_limit=(3, 5)),\n",
    "        # A.Normalize(max_pixel_value=1.0),\n",
    "        # A.PadIfNeeded(MODEL_RESIZE_SIZE,MODEL_RESIZE_SIZE,border_mode=cv2.BORDER_CONSTANT, value=0.0 ), # \n",
    "        # A.Affine(scale=[0.95, 1.05], translate_percent=0.05, shear=[-15, 15], p=0.95, mode=cv2.BORDER_CONSTANT), #mode=cv2.BORDER_CONSTANT\n",
    "        A.RandomCrop(MODEL_INPUT_SIZE, MODEL_INPUT_SIZE),\n",
    "        ToTensorV2()\n",
    "    ]),\n",
    "    'val':A.Compose([\n",
    "        A.ToFloat(255),\n",
    "        A.LongestMaxSize(max_size=MODEL_RESIZE_SIZE),\n",
    "        # A.Normalize(max_pixel_value=1.0),\n",
    "        # A.PadIfNeeded(MODEL_RESIZE_SIZE,MODEL_RESIZE_SIZE,border_mode=cv2.BORDER_CONSTANT, value=0.0 ), # \n",
    "        A.RandomCrop(MODEL_INPUT_SIZE, MODEL_INPUT_SIZE),\n",
    "        ToTensorV2()\n",
    "])}\n",
    "\n",
    "\n",
    "\n",
    "def apply_frame_transform(video, transform_type='train'):\n",
    "    video = np.array(video, dtype='uint8')\n",
    "    return frame_transform[transform_type](image=video)['image']\n",
    "\n",
    "\n",
    "def apply_video_transform(video, transform_type='train'):\n",
    "    if transform_type == 'test':\n",
    "        transform_type='val'\n",
    "    # cnt = int(max([np.round(8 * np.sqrt(len(video) / 25)), 8]))\n",
    "    cnt = 16\n",
    "    # print(f'{len(video)=}  -->  {cnt=}')\n",
    "    video = torch.tensor(video.transpose(0,3,1,2), dtype=torch.uint8)\n",
    "    # print(f'{video.shape=}')\n",
    "    res = TV.functional.uniform_temporal_subsample(video, cnt, 0).numpy().transpose(0,2,3,1)\n",
    "    # print(f'{res.shape=}')\n",
    "    res = apply_frame_transform(res, transform_type)\n",
    "    return res.transpose(0,1)"
   ]
  },
  {
   "cell_type": "code",
   "execution_count": 8,
   "id": "7a6ba1e8-ca34-4b33-8009-a89eec8e12f5",
   "metadata": {
    "tags": []
   },
   "outputs": [],
   "source": [
    "def read_video(video_path):\n",
    "    cap = cv2.VideoCapture(video_path)\n",
    "    frames = []\n",
    "    while cap.isOpened():\n",
    "        ret, frame = cap.read()\n",
    "        if not ret:\n",
    "            break\n",
    "        frame = cv2.cvtColor(frame, cv2.COLOR_BGR2RGB)\n",
    "        frames.append(frame)\n",
    "    \n",
    "    if len(frames) > 0:\n",
    "        frames = frames[len(frames) // 2-2:len(frames) // 2+3]\n",
    "    \n",
    "    return np.array(frames)"
   ]
  },
  {
   "cell_type": "code",
   "execution_count": 9,
   "id": "ef97feb0-c892-4ee8-b1ce-7d3bb989b832",
   "metadata": {
    "tags": []
   },
   "outputs": [],
   "source": [
    "class WLASLDataset(Dataset):\n",
    "    def __init__(self, dir_path='data/autsl', csv_postfix_file_name=\"_labels.csv\", ds_type='train',):\n",
    "        self.dir_path = dir_path\n",
    "        self.ds_type = ds_type\n",
    "        \n",
    "        self.df = pd.read_csv(os.path.join(dir_path, ds_type+csv_postfix_file_name), header=None)\n",
    "        self.df.columns = ['filename', 'cls']        \n",
    "        self.df = self.df#[self.df['cls'] ]\n",
    "        self.num_classes = int(self.df['cls'].max() + 1)               \n",
    "        \n",
    "    def __len__(self, ):\n",
    "        # if self.ds_type == 'val':\n",
    "            # return 300\n",
    "        return len(self.df)\n",
    "    \n",
    "    def __getitem__(self, ind):\n",
    "        sample = self.df.iloc[ind]\n",
    "        video_path = os.path.join(self.dir_path, self.ds_type, sample[\"filename\"] + '_color.mp4')\n",
    "        \n",
    "        video = read_video(video_path)\n",
    "        if len(video.shape)!=4:\n",
    "            print(video_path)\n",
    "            ind = np.random.randint(len(self))\n",
    "            return self[ind]\n",
    "        # video = video\n",
    "        # video = apply_frame_transform(video, self.ds_type)\n",
    "        return (video, sample['cls'])"
   ]
  },
  {
   "cell_type": "code",
   "execution_count": 10,
   "id": "5a582534-3ebc-4c02-8835-0a793a2e1cae",
   "metadata": {
    "tags": []
   },
   "outputs": [],
   "source": [
    "# train_ds = WLASLDataset(ds_type='train')\n",
    "# val_ds = WLASLDataset(ds_type='val')\n",
    "# test_ds = WLASLDataset(ds_type='test')"
   ]
  },
  {
   "cell_type": "code",
   "execution_count": 11,
   "id": "96b9b85d-3b2a-4ac5-94c4-ffb642abee3a",
   "metadata": {
    "tags": []
   },
   "outputs": [],
   "source": [
    "# cnt = 0\n",
    "# dir_path = 'data/AUTSL_5median_frame'\n",
    "# os.mkdir(dir_path)\n",
    "# for ds_name, ds in zip(['train', 'test', 'val'], [train_ds, test_ds, val_ds]):\n",
    "#     if ds_name != 'test':\n",
    "#         continue\n",
    "#     ds_path = os.path.join(dir_path, ds_name)\n",
    "#     if not os.path.exists(ds_path):\n",
    "#         os.mkdir(ds_path)\n",
    "#     for sample in tqdm(ds):\n",
    "#         for frame in sample[0]:\n",
    "#             folder_path = os.path.join(ds_path, str(sample[1]))\n",
    "#             if not os.path.exists(folder_path):\n",
    "#                 os.mkdir(folder_path)\n",
    "#             cv2.imwrite(os.path.join(folder_path, f'{cnt}.jpeg'), cv2.cvtColor(frame, cv2.COLOR_RGB2BGR))\n",
    "#             cnt+=1"
   ]
  },
  {
   "cell_type": "code",
   "execution_count": 12,
   "id": "15c01573-259a-45c9-a05a-c57a11d00cb2",
   "metadata": {
    "tags": []
   },
   "outputs": [],
   "source": [
    "ds_path = 'data/AUTSL_median_frame'\n",
    "train_ds = ImageFolder(os.path.join(ds_path, 'train'))\n",
    "train_ds.transform = lambda x : apply_frame_transform(x, 'train')\n",
    "\n",
    "val_ds = ImageFolder(os.path.join(ds_path, 'val'))\n",
    "val_ds.transform = lambda x : apply_frame_transform(x, 'val')\n",
    "\n",
    "test_ds = ImageFolder(os.path.join(ds_path, 'test'))\n",
    "test_ds.transform = lambda x : apply_frame_transform(x, 'val')"
   ]
  },
  {
   "cell_type": "code",
   "execution_count": 13,
   "id": "fd77f6e1-ae33-4338-837b-573de8210ba9",
   "metadata": {
    "tags": []
   },
   "outputs": [],
   "source": [
    "num_classes = 226\n",
    "train_ds.samples = [a for a in train_ds.samples if a[1] < num_classes]\n",
    "test_ds.samples = [a for a in test_ds.samples if a[1] < num_classes]\n",
    "val_ds.samples = [a for a in val_ds.samples if a[1] < num_classes]\n"
   ]
  },
  {
   "cell_type": "code",
   "execution_count": 14,
   "id": "860a0d1e-3dc8-4ec2-90f8-d17c577d4d50",
   "metadata": {
    "tags": []
   },
   "outputs": [
    {
     "data": {
      "text/plain": [
       "(28144, 4418, 3742)"
      ]
     },
     "execution_count": 14,
     "metadata": {},
     "output_type": "execute_result"
    }
   ],
   "source": [
    "len(train_ds), len(val_ds), len(test_ds)"
   ]
  },
  {
   "cell_type": "code",
   "execution_count": 15,
   "id": "ff7b905a-2b83-439d-8c80-7098bbb2e016",
   "metadata": {
    "tags": []
   },
   "outputs": [
    {
     "data": {
      "text/plain": [
       "tensor([[[0.7765, 0.7765, 0.7765,  ..., 0.6115, 0.6111, 0.6124],\n",
       "         [0.7765, 0.7765, 0.7765,  ..., 0.6167, 0.6157, 0.6157],\n",
       "         [0.7765, 0.7765, 0.7765,  ..., 0.6165, 0.6157, 0.6157],\n",
       "         ...,\n",
       "         [0.4166, 0.4166, 0.4166,  ..., 0.3437, 0.3502, 0.3529],\n",
       "         [0.4275, 0.4275, 0.4275,  ..., 0.3400, 0.3487, 0.3525],\n",
       "         [0.4311, 0.4311, 0.4277,  ..., 0.3204, 0.3038, 0.2783]],\n",
       "\n",
       "        [[0.7961, 0.7961, 0.7961,  ..., 0.6547, 0.6542, 0.6556],\n",
       "         [0.7961, 0.7961, 0.7961,  ..., 0.6599, 0.6588, 0.6588],\n",
       "         [0.7961, 0.7961, 0.7961,  ..., 0.6596, 0.6588, 0.6588],\n",
       "         ...,\n",
       "         [0.3381, 0.3381, 0.3381,  ..., 0.3320, 0.3384, 0.3412],\n",
       "         [0.3490, 0.3490, 0.3490,  ..., 0.3282, 0.3369, 0.3407],\n",
       "         [0.3527, 0.3527, 0.3493,  ..., 0.3086, 0.2921, 0.2666]],\n",
       "\n",
       "        [[0.7725, 0.7725, 0.7725,  ..., 0.5919, 0.5915, 0.5928],\n",
       "         [0.7725, 0.7725, 0.7725,  ..., 0.5971, 0.5961, 0.5961],\n",
       "         [0.7725, 0.7725, 0.7725,  ..., 0.5968, 0.5961, 0.5961],\n",
       "         ...,\n",
       "         [0.2322, 0.2322, 0.2322,  ..., 0.2732, 0.2796, 0.2824],\n",
       "         [0.2432, 0.2432, 0.2431,  ..., 0.2694, 0.2781, 0.2819],\n",
       "         [0.2468, 0.2468, 0.2434,  ..., 0.2498, 0.2333, 0.2077]]])"
      ]
     },
     "execution_count": 15,
     "metadata": {},
     "output_type": "execute_result"
    }
   ],
   "source": [
    "vid = train_ds[13][0]\n",
    "vid"
   ]
  },
  {
   "cell_type": "code",
   "execution_count": null,
   "id": "40d422bd-3e7a-4a87-836e-c0f499261aed",
   "metadata": {
    "tags": []
   },
   "outputs": [],
   "source": []
  },
  {
   "cell_type": "code",
   "execution_count": 16,
   "id": "d48c3c5b-3e57-4138-86d5-b3391660fd7c",
   "metadata": {
    "tags": []
   },
   "outputs": [
    {
     "data": {
      "image/png": "[encoded data removed]",
      "text/plain": [
       "<Figure size 640x480 with 1 Axes>"
      ]
     },
     "metadata": {},
     "output_type": "display_data"
    }
   ],
   "source": [
    "frame = train_ds[50][0]\n",
    "frame = frame.numpy().transpose(1,2,0)\n",
    "frame -= frame.min()\n",
    "frame /= frame.max()\n",
    "plt.imshow(frame)\n",
    "plt.show()"
   ]
  },
  {
   "cell_type": "code",
   "execution_count": 17,
   "id": "a71149bf-906f-464d-ab08-07bd408e823a",
   "metadata": {
    "tags": []
   },
   "outputs": [],
   "source": [
    "def batch_as_list_collate(batch_samples):\n",
    "    return batch_samples\n",
    "\n",
    "train_loader = DataLoader(train_ds, batch_size=32, shuffle=True, num_workers=8, drop_last=True ,pin_memory=True)#, collate_fn=batch_as_list_collate)\n",
    "val_loader = DataLoader(val_ds, batch_size=32, shuffle=False, num_workers=8, pin_memory=True)#, collate_fn=batch_as_list_collate)\n",
    "test_loader = DataLoader(test_ds, batch_size=32, shuffle=False, num_workers=8)#, collate_fn=batch_as_list_collate)"
   ]
  },
  {
   "cell_type": "markdown",
   "id": "c437a1b3-ce19-49df-8cfd-cae4276a346c",
   "metadata": {},
   "source": [
    "### Model"
   ]
  },
  {
   "cell_type": "code",
   "execution_count": 18,
   "id": "48778994-a01c-4581-b4b9-d0231cfadcdc",
   "metadata": {
    "tags": []
   },
   "outputs": [],
   "source": [
    "EMB_SIZE = 256\n",
    "cnn_model_name = 'effnetb1'"
   ]
  },
  {
   "cell_type": "code",
   "execution_count": 19,
   "id": "45f21093-e784-4b13-b1fe-d8a6d8e4ab39",
   "metadata": {
    "tags": []
   },
   "outputs": [],
   "source": [
    "class SimilarityToConceptTarget:\n",
    "    def __init__(self, features):\n",
    "        self.features = features\n",
    "    \n",
    "    def __call__(self, model_output):\n",
    "        cos = torch.nn.CosineSimilarity(dim=0)\n",
    "        return cos(model_output, self.features)"
   ]
  },
  {
   "cell_type": "code",
   "execution_count": 20,
   "id": "ba02f5fe-748c-4529-bf5f-3589afa44955",
   "metadata": {
    "tags": []
   },
   "outputs": [],
   "source": [
    "class LitCNN(pl.LightningModule):\n",
    "    def __init__(self, num_classes=num_classes, pretrained_model_file=None):\n",
    "        super().__init__()\n",
    "        self.learning_rate = 1e-3\n",
    "        \n",
    "        if not pretrained_model_file:\n",
    "            # self.model = regnet_y_400mf(weights=RegNet_Y_400MF_Weights.IMAGENET1K_V2)\n",
    "            # self.model.fc = nn.Linear(self.model.fc.in_features, EMB_SIZE)\n",
    "            self.model = efficientnet_b1(weights=EfficientNet_B1_Weights.IMAGENET1K_V2)\n",
    "            self.model.classifier = nn.Sequential(\n",
    "                nn.Dropout(p=0.2, inplace=True),\n",
    "                nn.Linear(in_features=1280, out_features=EMB_SIZE, bias=True)\n",
    "            )\n",
    "        else:\n",
    "            self.model = torch.load(pretrained_model_file)\n",
    "            \n",
    "        # model.model.requires_grad_=False\n",
    "        \n",
    "        # self.softmax = nn.Softmax(dim=-1)\n",
    "        # self.loss_func = nn.CrossEntropyLoss()\n",
    "        \n",
    "        self.loss_func = ArcFaceLoss(in_features=EMB_SIZE, num_classes=num_classes,\n",
    "                                     m=0.5, s=64)\n",
    "        # self.loss_func = CosFaceLoss(in_features=rnn_emb_size, num_classes=self.num_classes,\n",
    "        #                              m=0.35, s=64, smoothing_epsilon=0)\n",
    "        \n",
    "        self.metric_functions = {'rocauc': MulticlassAUROC(num_classes),\n",
    "                                 'acc@1' : MulticlassAccuracy(num_classes, top_k=1),\n",
    "                                 'acc@5' : MulticlassAccuracy(num_classes, top_k=5),\n",
    "                                 'acc@10': MulticlassAccuracy(num_classes, top_k=10),\n",
    "                                }\n",
    "        self.confusion_metric_function = MulticlassConfusionMatrix(num_classes=num_classes, normalize='true').to('cpu')\n",
    "        self.center_weights = None\n",
    "\n",
    "    def forward(self, x):\n",
    "        return self.model(x)\n",
    "\n",
    "    def configure_optimizers(self):\n",
    "        optimizer = optim.Adam(self.parameters(), lr=self.learning_rate, weight_decay=1e-8)\n",
    "        # scheduler = optim.lr_scheduler.OneCycleLR(optimizer, max_lr=self.learning_rate, \n",
    "        #                                           total_steps=self.trainer.estimated_stepping_batches,\n",
    "        #                                           pct_start=0.1,\n",
    "        #                                           div_factor=20,\n",
    "        #                                           final_div_factor=20\n",
    "        #                                          )\n",
    "        scheduler = optim.lr_scheduler.StepLR(optimizer, 10000)\n",
    "        return [optimizer], [{'scheduler': scheduler, 'interval': 'step', 'frequency': 1}]\n",
    "    \n",
    "\n",
    "    def training_step(self, train_batch, batch_idx):\n",
    "        x, y = train_batch\n",
    "        emb = self.model(x)\n",
    "        loss = self.loss_func(emb, y)\n",
    "        self.log('train_loss', loss)\n",
    "        \n",
    "        return {'loss': loss\n",
    "               }\n",
    "    \n",
    "    def training_epoch_end(self, outputs):\n",
    "        self.log_grad_cam(*test_ds[0])\n",
    "\n",
    "    def validation_step(self, val_batch, batch_idx):\n",
    "        if self.center_weights is None:\n",
    "            self.center_weights = self.loss_func.weight.cpu()\n",
    "        x, y = val_batch\n",
    "        emb = self.forward(x)\n",
    "        loss = self.loss_func(emb, y)\n",
    "        self.log('val_loss', loss)\n",
    "        \n",
    "        emb = F.normalize(emb.cpu())\n",
    "        dist = torch.cosine_similarity(emb[:, None,...], self.center_weights[None, ...], dim=-1) * self.loss_func.rescale\n",
    "        \n",
    "        return {\"y_true\": y.cpu(),\n",
    "                \"dist\": dist}\n",
    "        \n",
    "    def log_confusion_matrics(self, y_hat, y_true):\n",
    "        cm = self.confusion_metric_function.to('cpu')(y_hat, y_true)\n",
    "        df_cm = pd.DataFrame(cm.numpy(), index=np.arange(cm.shape[0]), columns=np.arange(cm.shape[0]))\n",
    "        plt.figure(figsize=(45, 40))\n",
    "        fig_ = sns.heatmap(df_cm, annot=False, cmap='Spectral').get_figure()\n",
    "        plt.close(fig_)\n",
    "        self.logger.experiment.add_figure(\"Confusion matrix\", fig_, self.global_step)\n",
    "    \n",
    "    def validation_epoch_end(self, outputs):\n",
    "        self.center_weights = None\n",
    "        yy_hat, yy_true = [], []\n",
    "        for out in outputs:\n",
    "            yy_hat.append(out['dist'])\n",
    "            yy_true.append(out['y_true'])\n",
    "        \n",
    "        yy_hat = torch.vstack(yy_hat)\n",
    "        yy_true = torch.hstack(yy_true)\n",
    "        \n",
    "        for name, metric in self.metric_functions.items():\n",
    "            res = metric(yy_hat, yy_true)\n",
    "            self.log(name, res)\n",
    "            \n",
    "        # self.log_confusion_matrics(yy_hat.cpu(), yy_true.cpu())\n",
    "        \n",
    "    \n",
    "    def log_grad_cam(self, img_tensor, cls_id):\n",
    "        concept_features = self.loss_func.weight[cls_id]\n",
    "        targets = [SimilarityToConceptTarget(concept_features)]\n",
    "\n",
    "        input_tensor = img_tensor[None, ...]\n",
    "        image_float = img_tensor.numpy().transpose(1,2,0)\n",
    "        image_float -= image_float.min()\n",
    "        image_float /= image_float.max()\n",
    "        \n",
    "        for i in range(len(self.model.features)):\n",
    "            target_layers = [self.model.features[i]]            \n",
    "            with GradCAM(model=self.model,\n",
    "                         target_layers=target_layers,\n",
    "                         use_cuda=True) as cam:\n",
    "                grayscale_cam = cam(input_tensor=input_tensor,\n",
    "                                    targets=targets)[0, :]\n",
    "            \n",
    "            cam_image = show_cam_on_image(image_float, grayscale_cam, use_rgb=True)\n",
    "            fig = plt.figure(figsize=(45, 40))\n",
    "            plt.imshow(cam_image)\n",
    "            plt.close(fig)\n",
    "            # self.logger.experiment.add_figure(f\"GradCam(layer{i},{cls_id=})\", fig, self.global_step)\n",
    "            self.zero_grad()\n",
    "\n",
    "        with torch.no_grad():\n",
    "            self.log('cos dist of test img', targets[0](self.model(input_tensor.cuda())[0]))\n",
    "\n",
    "# data\n",
    "\n",
    "# model\n",
    "# model = LitCNN(pretrained_model_file='effnetb1_226cls_arcface256.ckpt')\n",
    "model = LitCNN()"
   ]
  },
  {
   "cell_type": "code",
   "execution_count": 21,
   "id": "71fc835c-ac31-46e5-9da0-6b7a67d69d3b",
   "metadata": {
    "tags": []
   },
   "outputs": [
    {
     "name": "stderr",
     "output_type": "stream",
     "text": [
      "\u001b[34m\u001b[1mwandb\u001b[0m: Currently logged in as: \u001b[33meldervald\u001b[0m (\u001b[33mvaloebi\u001b[0m). Use \u001b[1m`wandb login --relogin`\u001b[0m to force relogin\n",
      "\u001b[34m\u001b[1mwandb\u001b[0m: \u001b[33mWARNING\u001b[0m If you're specifying your api key in code, ensure this code is not shared publicly.\n",
      "\u001b[34m\u001b[1mwandb\u001b[0m: \u001b[33mWARNING\u001b[0m Consider setting the WANDB_API_KEY environment variable, or running `wandb login` from the command line.\n",
      "\u001b[34m\u001b[1mwandb\u001b[0m: Appending key for api.wandb.ai to your netrc file: /root/.netrc\n"
     ]
    },
    {
     "data": {
      "text/html": [
       "Tracking run with wandb version 0.14.0"
      ],
      "text/plain": [
       "<IPython.core.display.HTML object>"
      ]
     },
     "metadata": {},
     "output_type": "display_data"
    },
    {
     "data": {
      "text/html": [
       "Run data is saved locally in <code>./wandb/run-20230317_124035-sc5atlp4</code>"
      ],
      "text/plain": [
       "<IPython.core.display.HTML object>"
      ]
     },
     "metadata": {},
     "output_type": "display_data"
    },
    {
     "data": {
      "text/html": [
       "Syncing run <strong><a href='https://wandb.ai/valoebi/gestures/runs/sc5atlp4' target=\"_blank\">vivid-silence-62</a></strong> to <a href='https://wandb.ai/valoebi/gestures' target=\"_blank\">Weights & Biases</a> (<a href='https://wandb.me/run' target=\"_blank\">docs</a>)<br/>"
      ],
      "text/plain": [
       "<IPython.core.display.HTML object>"
      ]
     },
     "metadata": {},
     "output_type": "display_data"
    },
    {
     "data": {
      "text/html": [
       " View project at <a href='https://wandb.ai/valoebi/gestures' target=\"_blank\">https://wandb.ai/valoebi/gestures</a>"
      ],
      "text/plain": [
       "<IPython.core.display.HTML object>"
      ]
     },
     "metadata": {},
     "output_type": "display_data"
    },
    {
     "data": {
      "text/html": [
       " View run at <a href='https://wandb.ai/valoebi/gestures/runs/sc5atlp4' target=\"_blank\">https://wandb.ai/valoebi/gestures/runs/sc5atlp4</a>"
      ],
      "text/plain": [
       "<IPython.core.display.HTML object>"
      ]
     },
     "metadata": {},
     "output_type": "display_data"
    }
   ],
   "source": [
    "import wandb\n",
    "WANDB_APIKEY = 'a5bd0bef55f8b72f59ac12d24f1623ad19eeb67b'\n",
    "wandb.login(key=WANDB_APIKEY)\n",
    "logger = WandbLogger(project='gestures')"
   ]
  },
  {
   "cell_type": "markdown",
   "id": "34fbd843-282e-4be6-9402-7b97dcdc724f",
   "metadata": {},
   "source": [
    "### Train "
   ]
  },
  {
   "cell_type": "code",
   "execution_count": 22,
   "id": "0a09fb2a-06e0-4285-82be-e706e9689764",
   "metadata": {
    "tags": []
   },
   "outputs": [
    {
     "name": "stderr",
     "output_type": "stream",
     "text": [
      "GPU available: True (cuda), used: True\n",
      "TPU available: False, using: 0 TPU cores\n",
      "IPU available: False, using: 0 IPUs\n",
      "HPU available: False, using: 0 HPUs\n",
      "`Trainer(val_check_interval=1.0)` was configured so validation will run at the end of the training epoch..\n"
     ]
    }
   ],
   "source": [
    "# logger = TensorBoardLogger(\"../tf_logs/\", name=f\"5mf-img_embs-{cnn_model_name}-{EMB_SIZE}-{num_classes}cls+gradcam\")\n",
    "lr_monitor = LearningRateMonitor(logging_interval='step')\n",
    "from pytorch_lightning.profilers import AdvancedProfiler, SimpleProfiler\n",
    "profiler = AdvancedProfiler(dirpath='./', filename='adv_profiler_logs')\n",
    "trainer = pl.Trainer(accelerator='gpu',\n",
    "                     devices=1, \n",
    "                     logger=logger,\n",
    "                     accumulate_grad_batches=8,\n",
    "                     # auto_lr_find=True,\n",
    "                     log_every_n_steps=1,\n",
    "                     max_epochs=20,\n",
    "                     val_check_interval=1.0,\n",
    "                     callbacks=[lr_monitor],\n",
    "                     profiler=SimpleProfiler(dirpath='./', filename='profiler_logs')\n",
    "                     # profiler=profiler\n",
    "                     # track_grad_norm=2,\n",
    "                     # gradient_clip_val=10,\n",
    "                     # gradient_clip_algorithm=\"norm\",\n",
    "                    )"
   ]
  },
  {
   "cell_type": "code",
   "execution_count": 23,
   "id": "eabf8091-9792-415c-b4b6-e5045fcd9ffa",
   "metadata": {
    "tags": []
   },
   "outputs": [],
   "source": [
    "# trainer.tune(model, train_loader, val_loader, lr_find_kwargs={\"num_training\":200})"
   ]
  },
  {
   "cell_type": "code",
   "execution_count": 24,
   "id": "d433d048-d0a0-4333-bfb3-48377a8198e4",
   "metadata": {
    "tags": []
   },
   "outputs": [
    {
     "name": "stderr",
     "output_type": "stream",
     "text": [
      "LOCAL_RANK: 0 - CUDA_VISIBLE_DEVICES: [0]\n",
      "\n",
      "  | Name                      | Type                      | Params\n",
      "------------------------------------------------------------------------\n",
      "0 | model                     | EfficientNet              | 6.8 M \n",
      "1 | loss_func                 | ArcFaceLoss               | 57.9 K\n",
      "2 | confusion_metric_function | MulticlassConfusionMatrix | 0     \n",
      "------------------------------------------------------------------------\n",
      "6.9 M     Trainable params\n",
      "0         Non-trainable params\n",
      "6.9 M     Total params\n",
      "27.596    Total estimated model params size (MB)\n"
     ]
    },
    {
     "data": {
      "application/vnd.jupyter.widget-view+json": {
       "model_id": "",
       "version_major": 2,
       "version_minor": 0
      },
      "text/plain": [
       "Sanity Checking: 0it [00:00, ?it/s]"
      ]
     },
     "metadata": {},
     "output_type": "display_data"
    },
    {
     "name": "stderr",
     "output_type": "stream",
     "text": [
      "/usr/local/lib/python3.10/dist-packages/torchmetrics/utilities/prints.py:36: UserWarning: No positive samples in targets, true positive value should be meaningless. Returning zero tensor in true positive score\n",
      "  warnings.warn(*args, **kwargs)\n"
     ]
    },
    {
     "data": {
      "application/vnd.jupyter.widget-view+json": {
       "model_id": "810dab14a1894aac9e0949a6e3689f67",
       "version_major": 2,
       "version_minor": 0
      },
      "text/plain": [
       "Training: 0it [00:00, ?it/s]"
      ]
     },
     "metadata": {},
     "output_type": "display_data"
    },
    {
     "data": {
      "application/vnd.jupyter.widget-view+json": {
       "model_id": "",
       "version_major": 2,
       "version_minor": 0
      },
      "text/plain": [
       "Validation: 0it [00:00, ?it/s]"
      ]
     },
     "metadata": {},
     "output_type": "display_data"
    },
    {
     "data": {
      "application/vnd.jupyter.widget-view+json": {
       "model_id": "",
       "version_major": 2,
       "version_minor": 0
      },
      "text/plain": [
       "Validation: 0it [00:00, ?it/s]"
      ]
     },
     "metadata": {},
     "output_type": "display_data"
    },
    {
     "data": {
      "application/vnd.jupyter.widget-view+json": {
       "model_id": "",
       "version_major": 2,
       "version_minor": 0
      },
      "text/plain": [
       "Validation: 0it [00:00, ?it/s]"
      ]
     },
     "metadata": {},
     "output_type": "display_data"
    },
    {
     "name": "stderr",
     "output_type": "stream",
     "text": [
      "/usr/local/lib/python3.10/dist-packages/pytorch_lightning/trainer/call.py:48: UserWarning: Detected KeyboardInterrupt, attempting graceful shutdown...\n",
      "  rank_zero_warn(\"Detected KeyboardInterrupt, attempting graceful shutdown...\")\n"
     ]
    }
   ],
   "source": [
    "trainer.fit(model, train_loader, val_loader)"
   ]
  },
  {
   "cell_type": "code",
   "execution_count": 25,
   "id": "8c262e25-7ace-479b-8ec1-0c3042ad7cad",
   "metadata": {
    "tags": []
   },
   "outputs": [],
   "source": [
    "# torch.save(model.model, f'{cnn_model_name}_{num_classes}cls_arcface{EMB_SIZE}.ckpt')"
   ]
  },
  {
   "cell_type": "code",
   "execution_count": null,
   "id": "8d990cd4-c3d1-4127-bd1d-8f578207664d",
   "metadata": {},
   "outputs": [],
   "source": []
  },
  {
   "cell_type": "code",
   "execution_count": 26,
   "id": "6504cc4b-45ca-4375-86e4-1e2a6718e088",
   "metadata": {
    "tags": []
   },
   "outputs": [],
   "source": [
    "model = model.cuda()"
   ]
  },
  {
   "cell_type": "code",
   "execution_count": 27,
   "id": "4f878fbc-d611-4acd-a20d-9ca5b8e60658",
   "metadata": {
    "tags": []
   },
   "outputs": [],
   "source": [
    "loader = iter(train_loader)"
   ]
  },
  {
   "cell_type": "code",
   "execution_count": 28,
   "id": "5a81f160-5472-4309-85ac-0b314291612d",
   "metadata": {
    "tags": []
   },
   "outputs": [
    {
     "name": "stdout",
     "output_type": "stream",
     "text": [
      "CPU times: user 22.7 ms, sys: 16.4 ms, total: 39.1 ms\n",
      "Wall time: 23.7 ms\n"
     ]
    }
   ],
   "source": [
    "%%time\n",
    "sample = train_ds[0]"
   ]
  },
  {
   "cell_type": "code",
   "execution_count": 29,
   "id": "a43601b4-2cbd-41f5-abb1-a4196f5f3cf8",
   "metadata": {
    "tags": []
   },
   "outputs": [
    {
     "name": "stdout",
     "output_type": "stream",
     "text": [
      "CPU times: user 102 ms, sys: 63.6 ms, total: 166 ms\n",
      "Wall time: 1.4 s\n"
     ]
    }
   ],
   "source": [
    "%%time\n",
    "batch = next(loader)"
   ]
  },
  {
   "cell_type": "code",
   "execution_count": 30,
   "id": "793a2979-6dde-4dd8-af6a-5c0031ca97d5",
   "metadata": {
    "tags": []
   },
   "outputs": [
    {
     "name": "stdout",
     "output_type": "stream",
     "text": [
      "CPU times: user 13.2 ms, sys: 3.57 ms, total: 16.8 ms\n",
      "Wall time: 15.7 ms\n"
     ]
    }
   ],
   "source": [
    "%%time\n",
    "X = batch[0].cuda()"
   ]
  },
  {
   "cell_type": "code",
   "execution_count": 31,
   "id": "d7043749-9c23-4dcb-ac6a-f4235d73e963",
   "metadata": {
    "tags": []
   },
   "outputs": [
    {
     "name": "stdout",
     "output_type": "stream",
     "text": [
      "CPU times: user 58.6 ms, sys: 3.8 ms, total: 62.4 ms\n",
      "Wall time: 62 ms\n"
     ]
    }
   ],
   "source": [
    "%%time\n",
    "y = model(X)"
   ]
  },
  {
   "cell_type": "code",
   "execution_count": null,
   "id": "76763ec2-017b-45d0-928f-65c03c91397a",
   "metadata": {},
   "outputs": [],
   "source": []
  },
  {
   "cell_type": "code",
   "execution_count": null,
   "id": "c24ce915-19ed-4cc7-bd43-1144334a0cd8",
   "metadata": {},
   "outputs": [],
   "source": []
  },
  {
   "cell_type": "code",
   "execution_count": null,
   "id": "f80c2157-a604-4079-b5c3-b608c5a62f0e",
   "metadata": {},
   "outputs": [],
   "source": []
  },
  {
   "cell_type": "code",
   "execution_count": null,
   "id": "90dee7e5-8d29-4297-a07f-be72499bc488",
   "metadata": {},
   "outputs": [],
   "source": []
  },
  {
   "cell_type": "code",
   "execution_count": 32,
   "id": "131005ff-60b2-4cab-9433-15b8f978b1a5",
   "metadata": {
    "tags": []
   },
   "outputs": [
    {
     "data": {
      "text/plain": [
       "EfficientNet(\n",
       "  (features): Sequential(\n",
       "    (0): Conv2dNormActivation(\n",
       "      (0): Conv2d(3, 32, kernel_size=(3, 3), stride=(2, 2), padding=(1, 1), bias=False)\n",
       "      (1): BatchNorm2d(32, eps=1e-05, momentum=0.1, affine=True, track_running_stats=True)\n",
       "      (2): SiLU(inplace=True)\n",
       "    )\n",
       "    (1): Sequential(\n",
       "      (0): MBConv(\n",
       "        (block): Sequential(\n",
       "          (0): Conv2dNormActivation(\n",
       "            (0): Conv2d(32, 32, kernel_size=(3, 3), stride=(1, 1), padding=(1, 1), groups=32, bias=False)\n",
       "            (1): BatchNorm2d(32, eps=1e-05, momentum=0.1, affine=True, track_running_stats=True)\n",
       "            (2): SiLU(inplace=True)\n",
       "          )\n",
       "          (1): SqueezeExcitation(\n",
       "            (avgpool): AdaptiveAvgPool2d(output_size=1)\n",
       "            (fc1): Conv2d(32, 8, kernel_size=(1, 1), stride=(1, 1))\n",
       "            (fc2): Conv2d(8, 32, kernel_size=(1, 1), stride=(1, 1))\n",
       "            (activation): SiLU(inplace=True)\n",
       "            (scale_activation): Sigmoid()\n",
       "          )\n",
       "          (2): Conv2dNormActivation(\n",
       "            (0): Conv2d(32, 16, kernel_size=(1, 1), stride=(1, 1), bias=False)\n",
       "            (1): BatchNorm2d(16, eps=1e-05, momentum=0.1, affine=True, track_running_stats=True)\n",
       "          )\n",
       "        )\n",
       "        (stochastic_depth): StochasticDepth(p=0.0, mode=row)\n",
       "      )\n",
       "      (1): MBConv(\n",
       "        (block): Sequential(\n",
       "          (0): Conv2dNormActivation(\n",
       "            (0): Conv2d(16, 16, kernel_size=(3, 3), stride=(1, 1), padding=(1, 1), groups=16, bias=False)\n",
       "            (1): BatchNorm2d(16, eps=1e-05, momentum=0.1, affine=True, track_running_stats=True)\n",
       "            (2): SiLU(inplace=True)\n",
       "          )\n",
       "          (1): SqueezeExcitation(\n",
       "            (avgpool): AdaptiveAvgPool2d(output_size=1)\n",
       "            (fc1): Conv2d(16, 4, kernel_size=(1, 1), stride=(1, 1))\n",
       "            (fc2): Conv2d(4, 16, kernel_size=(1, 1), stride=(1, 1))\n",
       "            (activation): SiLU(inplace=True)\n",
       "            (scale_activation): Sigmoid()\n",
       "          )\n",
       "          (2): Conv2dNormActivation(\n",
       "            (0): Conv2d(16, 16, kernel_size=(1, 1), stride=(1, 1), bias=False)\n",
       "            (1): BatchNorm2d(16, eps=1e-05, momentum=0.1, affine=True, track_running_stats=True)\n",
       "          )\n",
       "        )\n",
       "        (stochastic_depth): StochasticDepth(p=0.008695652173913044, mode=row)\n",
       "      )\n",
       "    )\n",
       "    (2): Sequential(\n",
       "      (0): MBConv(\n",
       "        (block): Sequential(\n",
       "          (0): Conv2dNormActivation(\n",
       "            (0): Conv2d(16, 96, kernel_size=(1, 1), stride=(1, 1), bias=False)\n",
       "            (1): BatchNorm2d(96, eps=1e-05, momentum=0.1, affine=True, track_running_stats=True)\n",
       "            (2): SiLU(inplace=True)\n",
       "          )\n",
       "          (1): Conv2dNormActivation(\n",
       "            (0): Conv2d(96, 96, kernel_size=(3, 3), stride=(2, 2), padding=(1, 1), groups=96, bias=False)\n",
       "            (1): BatchNorm2d(96, eps=1e-05, momentum=0.1, affine=True, track_running_stats=True)\n",
       "            (2): SiLU(inplace=True)\n",
       "          )\n",
       "          (2): SqueezeExcitation(\n",
       "            (avgpool): AdaptiveAvgPool2d(output_size=1)\n",
       "            (fc1): Conv2d(96, 4, kernel_size=(1, 1), stride=(1, 1))\n",
       "            (fc2): Conv2d(4, 96, kernel_size=(1, 1), stride=(1, 1))\n",
       "            (activation): SiLU(inplace=True)\n",
       "            (scale_activation): Sigmoid()\n",
       "          )\n",
       "          (3): Conv2dNormActivation(\n",
       "            (0): Conv2d(96, 24, kernel_size=(1, 1), stride=(1, 1), bias=False)\n",
       "            (1): BatchNorm2d(24, eps=1e-05, momentum=0.1, affine=True, track_running_stats=True)\n",
       "          )\n",
       "        )\n",
       "        (stochastic_depth): StochasticDepth(p=0.017391304347826087, mode=row)\n",
       "      )\n",
       "      (1): MBConv(\n",
       "        (block): Sequential(\n",
       "          (0): Conv2dNormActivation(\n",
       "            (0): Conv2d(24, 144, kernel_size=(1, 1), stride=(1, 1), bias=False)\n",
       "            (1): BatchNorm2d(144, eps=1e-05, momentum=0.1, affine=True, track_running_stats=True)\n",
       "            (2): SiLU(inplace=True)\n",
       "          )\n",
       "          (1): Conv2dNormActivation(\n",
       "            (0): Conv2d(144, 144, kernel_size=(3, 3), stride=(1, 1), padding=(1, 1), groups=144, bias=False)\n",
       "            (1): BatchNorm2d(144, eps=1e-05, momentum=0.1, affine=True, track_running_stats=True)\n",
       "            (2): SiLU(inplace=True)\n",
       "          )\n",
       "          (2): SqueezeExcitation(\n",
       "            (avgpool): AdaptiveAvgPool2d(output_size=1)\n",
       "            (fc1): Conv2d(144, 6, kernel_size=(1, 1), stride=(1, 1))\n",
       "            (fc2): Conv2d(6, 144, kernel_size=(1, 1), stride=(1, 1))\n",
       "            (activation): SiLU(inplace=True)\n",
       "            (scale_activation): Sigmoid()\n",
       "          )\n",
       "          (3): Conv2dNormActivation(\n",
       "            (0): Conv2d(144, 24, kernel_size=(1, 1), stride=(1, 1), bias=False)\n",
       "            (1): BatchNorm2d(24, eps=1e-05, momentum=0.1, affine=True, track_running_stats=True)\n",
       "          )\n",
       "        )\n",
       "        (stochastic_depth): StochasticDepth(p=0.026086956521739136, mode=row)\n",
       "      )\n",
       "      (2): MBConv(\n",
       "        (block): Sequential(\n",
       "          (0): Conv2dNormActivation(\n",
       "            (0): Conv2d(24, 144, kernel_size=(1, 1), stride=(1, 1), bias=False)\n",
       "            (1): BatchNorm2d(144, eps=1e-05, momentum=0.1, affine=True, track_running_stats=True)\n",
       "            (2): SiLU(inplace=True)\n",
       "          )\n",
       "          (1): Conv2dNormActivation(\n",
       "            (0): Conv2d(144, 144, kernel_size=(3, 3), stride=(1, 1), padding=(1, 1), groups=144, bias=False)\n",
       "            (1): BatchNorm2d(144, eps=1e-05, momentum=0.1, affine=True, track_running_stats=True)\n",
       "            (2): SiLU(inplace=True)\n",
       "          )\n",
       "          (2): SqueezeExcitation(\n",
       "            (avgpool): AdaptiveAvgPool2d(output_size=1)\n",
       "            (fc1): Conv2d(144, 6, kernel_size=(1, 1), stride=(1, 1))\n",
       "            (fc2): Conv2d(6, 144, kernel_size=(1, 1), stride=(1, 1))\n",
       "            (activation): SiLU(inplace=True)\n",
       "            (scale_activation): Sigmoid()\n",
       "          )\n",
       "          (3): Conv2dNormActivation(\n",
       "            (0): Conv2d(144, 24, kernel_size=(1, 1), stride=(1, 1), bias=False)\n",
       "            (1): BatchNorm2d(24, eps=1e-05, momentum=0.1, affine=True, track_running_stats=True)\n",
       "          )\n",
       "        )\n",
       "        (stochastic_depth): StochasticDepth(p=0.034782608695652174, mode=row)\n",
       "      )\n",
       "    )\n",
       "    (3): Sequential(\n",
       "      (0): MBConv(\n",
       "        (block): Sequential(\n",
       "          (0): Conv2dNormActivation(\n",
       "            (0): Conv2d(24, 144, kernel_size=(1, 1), stride=(1, 1), bias=False)\n",
       "            (1): BatchNorm2d(144, eps=1e-05, momentum=0.1, affine=True, track_running_stats=True)\n",
       "            (2): SiLU(inplace=True)\n",
       "          )\n",
       "          (1): Conv2dNormActivation(\n",
       "            (0): Conv2d(144, 144, kernel_size=(5, 5), stride=(2, 2), padding=(2, 2), groups=144, bias=False)\n",
       "            (1): BatchNorm2d(144, eps=1e-05, momentum=0.1, affine=True, track_running_stats=True)\n",
       "            (2): SiLU(inplace=True)\n",
       "          )\n",
       "          (2): SqueezeExcitation(\n",
       "            (avgpool): AdaptiveAvgPool2d(output_size=1)\n",
       "            (fc1): Conv2d(144, 6, kernel_size=(1, 1), stride=(1, 1))\n",
       "            (fc2): Conv2d(6, 144, kernel_size=(1, 1), stride=(1, 1))\n",
       "            (activation): SiLU(inplace=True)\n",
       "            (scale_activation): Sigmoid()\n",
       "          )\n",
       "          (3): Conv2dNormActivation(\n",
       "            (0): Conv2d(144, 40, kernel_size=(1, 1), stride=(1, 1), bias=False)\n",
       "            (1): BatchNorm2d(40, eps=1e-05, momentum=0.1, affine=True, track_running_stats=True)\n",
       "          )\n",
       "        )\n",
       "        (stochastic_depth): StochasticDepth(p=0.043478260869565216, mode=row)\n",
       "      )\n",
       "      (1): MBConv(\n",
       "        (block): Sequential(\n",
       "          (0): Conv2dNormActivation(\n",
       "            (0): Conv2d(40, 240, kernel_size=(1, 1), stride=(1, 1), bias=False)\n",
       "            (1): BatchNorm2d(240, eps=1e-05, momentum=0.1, affine=True, track_running_stats=True)\n",
       "            (2): SiLU(inplace=True)\n",
       "          )\n",
       "          (1): Conv2dNormActivation(\n",
       "            (0): Conv2d(240, 240, kernel_size=(5, 5), stride=(1, 1), padding=(2, 2), groups=240, bias=False)\n",
       "            (1): BatchNorm2d(240, eps=1e-05, momentum=0.1, affine=True, track_running_stats=True)\n",
       "            (2): SiLU(inplace=True)\n",
       "          )\n",
       "          (2): SqueezeExcitation(\n",
       "            (avgpool): AdaptiveAvgPool2d(output_size=1)\n",
       "            (fc1): Conv2d(240, 10, kernel_size=(1, 1), stride=(1, 1))\n",
       "            (fc2): Conv2d(10, 240, kernel_size=(1, 1), stride=(1, 1))\n",
       "            (activation): SiLU(inplace=True)\n",
       "            (scale_activation): Sigmoid()\n",
       "          )\n",
       "          (3): Conv2dNormActivation(\n",
       "            (0): Conv2d(240, 40, kernel_size=(1, 1), stride=(1, 1), bias=False)\n",
       "            (1): BatchNorm2d(40, eps=1e-05, momentum=0.1, affine=True, track_running_stats=True)\n",
       "          )\n",
       "        )\n",
       "        (stochastic_depth): StochasticDepth(p=0.05217391304347827, mode=row)\n",
       "      )\n",
       "      (2): MBConv(\n",
       "        (block): Sequential(\n",
       "          (0): Conv2dNormActivation(\n",
       "            (0): Conv2d(40, 240, kernel_size=(1, 1), stride=(1, 1), bias=False)\n",
       "            (1): BatchNorm2d(240, eps=1e-05, momentum=0.1, affine=True, track_running_stats=True)\n",
       "            (2): SiLU(inplace=True)\n",
       "          )\n",
       "          (1): Conv2dNormActivation(\n",
       "            (0): Conv2d(240, 240, kernel_size=(5, 5), stride=(1, 1), padding=(2, 2), groups=240, bias=False)\n",
       "            (1): BatchNorm2d(240, eps=1e-05, momentum=0.1, affine=True, track_running_stats=True)\n",
       "            (2): SiLU(inplace=True)\n",
       "          )\n",
       "          (2): SqueezeExcitation(\n",
       "            (avgpool): AdaptiveAvgPool2d(output_size=1)\n",
       "            (fc1): Conv2d(240, 10, kernel_size=(1, 1), stride=(1, 1))\n",
       "            (fc2): Conv2d(10, 240, kernel_size=(1, 1), stride=(1, 1))\n",
       "            (activation): SiLU(inplace=True)\n",
       "            (scale_activation): Sigmoid()\n",
       "          )\n",
       "          (3): Conv2dNormActivation(\n",
       "            (0): Conv2d(240, 40, kernel_size=(1, 1), stride=(1, 1), bias=False)\n",
       "            (1): BatchNorm2d(40, eps=1e-05, momentum=0.1, affine=True, track_running_stats=True)\n",
       "          )\n",
       "        )\n",
       "        (stochastic_depth): StochasticDepth(p=0.06086956521739131, mode=row)\n",
       "      )\n",
       "    )\n",
       "    (4): Sequential(\n",
       "      (0): MBConv(\n",
       "        (block): Sequential(\n",
       "          (0): Conv2dNormActivation(\n",
       "            (0): Conv2d(40, 240, kernel_size=(1, 1), stride=(1, 1), bias=False)\n",
       "            (1): BatchNorm2d(240, eps=1e-05, momentum=0.1, affine=True, track_running_stats=True)\n",
       "            (2): SiLU(inplace=True)\n",
       "          )\n",
       "          (1): Conv2dNormActivation(\n",
       "            (0): Conv2d(240, 240, kernel_size=(3, 3), stride=(2, 2), padding=(1, 1), groups=240, bias=False)\n",
       "            (1): BatchNorm2d(240, eps=1e-05, momentum=0.1, affine=True, track_running_stats=True)\n",
       "            (2): SiLU(inplace=True)\n",
       "          )\n",
       "          (2): SqueezeExcitation(\n",
       "            (avgpool): AdaptiveAvgPool2d(output_size=1)\n",
       "            (fc1): Conv2d(240, 10, kernel_size=(1, 1), stride=(1, 1))\n",
       "            (fc2): Conv2d(10, 240, kernel_size=(1, 1), stride=(1, 1))\n",
       "            (activation): SiLU(inplace=True)\n",
       "            (scale_activation): Sigmoid()\n",
       "          )\n",
       "          (3): Conv2dNormActivation(\n",
       "            (0): Conv2d(240, 80, kernel_size=(1, 1), stride=(1, 1), bias=False)\n",
       "            (1): BatchNorm2d(80, eps=1e-05, momentum=0.1, affine=True, track_running_stats=True)\n",
       "          )\n",
       "        )\n",
       "        (stochastic_depth): StochasticDepth(p=0.06956521739130435, mode=row)\n",
       "      )\n",
       "      (1): MBConv(\n",
       "        (block): Sequential(\n",
       "          (0): Conv2dNormActivation(\n",
       "            (0): Conv2d(80, 480, kernel_size=(1, 1), stride=(1, 1), bias=False)\n",
       "            (1): BatchNorm2d(480, eps=1e-05, momentum=0.1, affine=True, track_running_stats=True)\n",
       "            (2): SiLU(inplace=True)\n",
       "          )\n",
       "          (1): Conv2dNormActivation(\n",
       "            (0): Conv2d(480, 480, kernel_size=(3, 3), stride=(1, 1), padding=(1, 1), groups=480, bias=False)\n",
       "            (1): BatchNorm2d(480, eps=1e-05, momentum=0.1, affine=True, track_running_stats=True)\n",
       "            (2): SiLU(inplace=True)\n",
       "          )\n",
       "          (2): SqueezeExcitation(\n",
       "            (avgpool): AdaptiveAvgPool2d(output_size=1)\n",
       "            (fc1): Conv2d(480, 20, kernel_size=(1, 1), stride=(1, 1))\n",
       "            (fc2): Conv2d(20, 480, kernel_size=(1, 1), stride=(1, 1))\n",
       "            (activation): SiLU(inplace=True)\n",
       "            (scale_activation): Sigmoid()\n",
       "          )\n",
       "          (3): Conv2dNormActivation(\n",
       "            (0): Conv2d(480, 80, kernel_size=(1, 1), stride=(1, 1), bias=False)\n",
       "            (1): BatchNorm2d(80, eps=1e-05, momentum=0.1, affine=True, track_running_stats=True)\n",
       "          )\n",
       "        )\n",
       "        (stochastic_depth): StochasticDepth(p=0.0782608695652174, mode=row)\n",
       "      )\n",
       "      (2): MBConv(\n",
       "        (block): Sequential(\n",
       "          (0): Conv2dNormActivation(\n",
       "            (0): Conv2d(80, 480, kernel_size=(1, 1), stride=(1, 1), bias=False)\n",
       "            (1): BatchNorm2d(480, eps=1e-05, momentum=0.1, affine=True, track_running_stats=True)\n",
       "            (2): SiLU(inplace=True)\n",
       "          )\n",
       "          (1): Conv2dNormActivation(\n",
       "            (0): Conv2d(480, 480, kernel_size=(3, 3), stride=(1, 1), padding=(1, 1), groups=480, bias=False)\n",
       "            (1): BatchNorm2d(480, eps=1e-05, momentum=0.1, affine=True, track_running_stats=True)\n",
       "            (2): SiLU(inplace=True)\n",
       "          )\n",
       "          (2): SqueezeExcitation(\n",
       "            (avgpool): AdaptiveAvgPool2d(output_size=1)\n",
       "            (fc1): Conv2d(480, 20, kernel_size=(1, 1), stride=(1, 1))\n",
       "            (fc2): Conv2d(20, 480, kernel_size=(1, 1), stride=(1, 1))\n",
       "            (activation): SiLU(inplace=True)\n",
       "            (scale_activation): Sigmoid()\n",
       "          )\n",
       "          (3): Conv2dNormActivation(\n",
       "            (0): Conv2d(480, 80, kernel_size=(1, 1), stride=(1, 1), bias=False)\n",
       "            (1): BatchNorm2d(80, eps=1e-05, momentum=0.1, affine=True, track_running_stats=True)\n",
       "          )\n",
       "        )\n",
       "        (stochastic_depth): StochasticDepth(p=0.08695652173913043, mode=row)\n",
       "      )\n",
       "      (3): MBConv(\n",
       "        (block): Sequential(\n",
       "          (0): Conv2dNormActivation(\n",
       "            (0): Conv2d(80, 480, kernel_size=(1, 1), stride=(1, 1), bias=False)\n",
       "            (1): BatchNorm2d(480, eps=1e-05, momentum=0.1, affine=True, track_running_stats=True)\n",
       "            (2): SiLU(inplace=True)\n",
       "          )\n",
       "          (1): Conv2dNormActivation(\n",
       "            (0): Conv2d(480, 480, kernel_size=(3, 3), stride=(1, 1), padding=(1, 1), groups=480, bias=False)\n",
       "            (1): BatchNorm2d(480, eps=1e-05, momentum=0.1, affine=True, track_running_stats=True)\n",
       "            (2): SiLU(inplace=True)\n",
       "          )\n",
       "          (2): SqueezeExcitation(\n",
       "            (avgpool): AdaptiveAvgPool2d(output_size=1)\n",
       "            (fc1): Conv2d(480, 20, kernel_size=(1, 1), stride=(1, 1))\n",
       "            (fc2): Conv2d(20, 480, kernel_size=(1, 1), stride=(1, 1))\n",
       "            (activation): SiLU(inplace=True)\n",
       "            (scale_activation): Sigmoid()\n",
       "          )\n",
       "          (3): Conv2dNormActivation(\n",
       "            (0): Conv2d(480, 80, kernel_size=(1, 1), stride=(1, 1), bias=False)\n",
       "            (1): BatchNorm2d(80, eps=1e-05, momentum=0.1, affine=True, track_running_stats=True)\n",
       "          )\n",
       "        )\n",
       "        (stochastic_depth): StochasticDepth(p=0.09565217391304348, mode=row)\n",
       "      )\n",
       "    )\n",
       "    (5): Sequential(\n",
       "      (0): MBConv(\n",
       "        (block): Sequential(\n",
       "          (0): Conv2dNormActivation(\n",
       "            (0): Conv2d(80, 480, kernel_size=(1, 1), stride=(1, 1), bias=False)\n",
       "            (1): BatchNorm2d(480, eps=1e-05, momentum=0.1, affine=True, track_running_stats=True)\n",
       "            (2): SiLU(inplace=True)\n",
       "          )\n",
       "          (1): Conv2dNormActivation(\n",
       "            (0): Conv2d(480, 480, kernel_size=(5, 5), stride=(1, 1), padding=(2, 2), groups=480, bias=False)\n",
       "            (1): BatchNorm2d(480, eps=1e-05, momentum=0.1, affine=True, track_running_stats=True)\n",
       "            (2): SiLU(inplace=True)\n",
       "          )\n",
       "          (2): SqueezeExcitation(\n",
       "            (avgpool): AdaptiveAvgPool2d(output_size=1)\n",
       "            (fc1): Conv2d(480, 20, kernel_size=(1, 1), stride=(1, 1))\n",
       "            (fc2): Conv2d(20, 480, kernel_size=(1, 1), stride=(1, 1))\n",
       "            (activation): SiLU(inplace=True)\n",
       "            (scale_activation): Sigmoid()\n",
       "          )\n",
       "          (3): Conv2dNormActivation(\n",
       "            (0): Conv2d(480, 112, kernel_size=(1, 1), stride=(1, 1), bias=False)\n",
       "            (1): BatchNorm2d(112, eps=1e-05, momentum=0.1, affine=True, track_running_stats=True)\n",
       "          )\n",
       "        )\n",
       "        (stochastic_depth): StochasticDepth(p=0.10434782608695654, mode=row)\n",
       "      )\n",
       "      (1): MBConv(\n",
       "        (block): Sequential(\n",
       "          (0): Conv2dNormActivation(\n",
       "            (0): Conv2d(112, 672, kernel_size=(1, 1), stride=(1, 1), bias=False)\n",
       "            (1): BatchNorm2d(672, eps=1e-05, momentum=0.1, affine=True, track_running_stats=True)\n",
       "            (2): SiLU(inplace=True)\n",
       "          )\n",
       "          (1): Conv2dNormActivation(\n",
       "            (0): Conv2d(672, 672, kernel_size=(5, 5), stride=(1, 1), padding=(2, 2), groups=672, bias=False)\n",
       "            (1): BatchNorm2d(672, eps=1e-05, momentum=0.1, affine=True, track_running_stats=True)\n",
       "            (2): SiLU(inplace=True)\n",
       "          )\n",
       "          (2): SqueezeExcitation(\n",
       "            (avgpool): AdaptiveAvgPool2d(output_size=1)\n",
       "            (fc1): Conv2d(672, 28, kernel_size=(1, 1), stride=(1, 1))\n",
       "            (fc2): Conv2d(28, 672, kernel_size=(1, 1), stride=(1, 1))\n",
       "            (activation): SiLU(inplace=True)\n",
       "            (scale_activation): Sigmoid()\n",
       "          )\n",
       "          (3): Conv2dNormActivation(\n",
       "            (0): Conv2d(672, 112, kernel_size=(1, 1), stride=(1, 1), bias=False)\n",
       "            (1): BatchNorm2d(112, eps=1e-05, momentum=0.1, affine=True, track_running_stats=True)\n",
       "          )\n",
       "        )\n",
       "        (stochastic_depth): StochasticDepth(p=0.11304347826086956, mode=row)\n",
       "      )\n",
       "      (2): MBConv(\n",
       "        (block): Sequential(\n",
       "          (0): Conv2dNormActivation(\n",
       "            (0): Conv2d(112, 672, kernel_size=(1, 1), stride=(1, 1), bias=False)\n",
       "            (1): BatchNorm2d(672, eps=1e-05, momentum=0.1, affine=True, track_running_stats=True)\n",
       "            (2): SiLU(inplace=True)\n",
       "          )\n",
       "          (1): Conv2dNormActivation(\n",
       "            (0): Conv2d(672, 672, kernel_size=(5, 5), stride=(1, 1), padding=(2, 2), groups=672, bias=False)\n",
       "            (1): BatchNorm2d(672, eps=1e-05, momentum=0.1, affine=True, track_running_stats=True)\n",
       "            (2): SiLU(inplace=True)\n",
       "          )\n",
       "          (2): SqueezeExcitation(\n",
       "            (avgpool): AdaptiveAvgPool2d(output_size=1)\n",
       "            (fc1): Conv2d(672, 28, kernel_size=(1, 1), stride=(1, 1))\n",
       "            (fc2): Conv2d(28, 672, kernel_size=(1, 1), stride=(1, 1))\n",
       "            (activation): SiLU(inplace=True)\n",
       "            (scale_activation): Sigmoid()\n",
       "          )\n",
       "          (3): Conv2dNormActivation(\n",
       "            (0): Conv2d(672, 112, kernel_size=(1, 1), stride=(1, 1), bias=False)\n",
       "            (1): BatchNorm2d(112, eps=1e-05, momentum=0.1, affine=True, track_running_stats=True)\n",
       "          )\n",
       "        )\n",
       "        (stochastic_depth): StochasticDepth(p=0.12173913043478261, mode=row)\n",
       "      )\n",
       "      (3): MBConv(\n",
       "        (block): Sequential(\n",
       "          (0): Conv2dNormActivation(\n",
       "            (0): Conv2d(112, 672, kernel_size=(1, 1), stride=(1, 1), bias=False)\n",
       "            (1): BatchNorm2d(672, eps=1e-05, momentum=0.1, affine=True, track_running_stats=True)\n",
       "            (2): SiLU(inplace=True)\n",
       "          )\n",
       "          (1): Conv2dNormActivation(\n",
       "            (0): Conv2d(672, 672, kernel_size=(5, 5), stride=(1, 1), padding=(2, 2), groups=672, bias=False)\n",
       "            (1): BatchNorm2d(672, eps=1e-05, momentum=0.1, affine=True, track_running_stats=True)\n",
       "            (2): SiLU(inplace=True)\n",
       "          )\n",
       "          (2): SqueezeExcitation(\n",
       "            (avgpool): AdaptiveAvgPool2d(output_size=1)\n",
       "            (fc1): Conv2d(672, 28, kernel_size=(1, 1), stride=(1, 1))\n",
       "            (fc2): Conv2d(28, 672, kernel_size=(1, 1), stride=(1, 1))\n",
       "            (activation): SiLU(inplace=True)\n",
       "            (scale_activation): Sigmoid()\n",
       "          )\n",
       "          (3): Conv2dNormActivation(\n",
       "            (0): Conv2d(672, 112, kernel_size=(1, 1), stride=(1, 1), bias=False)\n",
       "            (1): BatchNorm2d(112, eps=1e-05, momentum=0.1, affine=True, track_running_stats=True)\n",
       "          )\n",
       "        )\n",
       "        (stochastic_depth): StochasticDepth(p=0.13043478260869565, mode=row)\n",
       "      )\n",
       "    )\n",
       "    (6): Sequential(\n",
       "      (0): MBConv(\n",
       "        (block): Sequential(\n",
       "          (0): Conv2dNormActivation(\n",
       "            (0): Conv2d(112, 672, kernel_size=(1, 1), stride=(1, 1), bias=False)\n",
       "            (1): BatchNorm2d(672, eps=1e-05, momentum=0.1, affine=True, track_running_stats=True)\n",
       "            (2): SiLU(inplace=True)\n",
       "          )\n",
       "          (1): Conv2dNormActivation(\n",
       "            (0): Conv2d(672, 672, kernel_size=(5, 5), stride=(2, 2), padding=(2, 2), groups=672, bias=False)\n",
       "            (1): BatchNorm2d(672, eps=1e-05, momentum=0.1, affine=True, track_running_stats=True)\n",
       "            (2): SiLU(inplace=True)\n",
       "          )\n",
       "          (2): SqueezeExcitation(\n",
       "            (avgpool): AdaptiveAvgPool2d(output_size=1)\n",
       "            (fc1): Conv2d(672, 28, kernel_size=(1, 1), stride=(1, 1))\n",
       "            (fc2): Conv2d(28, 672, kernel_size=(1, 1), stride=(1, 1))\n",
       "            (activation): SiLU(inplace=True)\n",
       "            (scale_activation): Sigmoid()\n",
       "          )\n",
       "          (3): Conv2dNormActivation(\n",
       "            (0): Conv2d(672, 192, kernel_size=(1, 1), stride=(1, 1), bias=False)\n",
       "            (1): BatchNorm2d(192, eps=1e-05, momentum=0.1, affine=True, track_running_stats=True)\n",
       "          )\n",
       "        )\n",
       "        (stochastic_depth): StochasticDepth(p=0.1391304347826087, mode=row)\n",
       "      )\n",
       "      (1): MBConv(\n",
       "        (block): Sequential(\n",
       "          (0): Conv2dNormActivation(\n",
       "            (0): Conv2d(192, 1152, kernel_size=(1, 1), stride=(1, 1), bias=False)\n",
       "            (1): BatchNorm2d(1152, eps=1e-05, momentum=0.1, affine=True, track_running_stats=True)\n",
       "            (2): SiLU(inplace=True)\n",
       "          )\n",
       "          (1): Conv2dNormActivation(\n",
       "            (0): Conv2d(1152, 1152, kernel_size=(5, 5), stride=(1, 1), padding=(2, 2), groups=1152, bias=False)\n",
       "            (1): BatchNorm2d(1152, eps=1e-05, momentum=0.1, affine=True, track_running_stats=True)\n",
       "            (2): SiLU(inplace=True)\n",
       "          )\n",
       "          (2): SqueezeExcitation(\n",
       "            (avgpool): AdaptiveAvgPool2d(output_size=1)\n",
       "            (fc1): Conv2d(1152, 48, kernel_size=(1, 1), stride=(1, 1))\n",
       "            (fc2): Conv2d(48, 1152, kernel_size=(1, 1), stride=(1, 1))\n",
       "            (activation): SiLU(inplace=True)\n",
       "            (scale_activation): Sigmoid()\n",
       "          )\n",
       "          (3): Conv2dNormActivation(\n",
       "            (0): Conv2d(1152, 192, kernel_size=(1, 1), stride=(1, 1), bias=False)\n",
       "            (1): BatchNorm2d(192, eps=1e-05, momentum=0.1, affine=True, track_running_stats=True)\n",
       "          )\n",
       "        )\n",
       "        (stochastic_depth): StochasticDepth(p=0.14782608695652175, mode=row)\n",
       "      )\n",
       "      (2): MBConv(\n",
       "        (block): Sequential(\n",
       "          (0): Conv2dNormActivation(\n",
       "            (0): Conv2d(192, 1152, kernel_size=(1, 1), stride=(1, 1), bias=False)\n",
       "            (1): BatchNorm2d(1152, eps=1e-05, momentum=0.1, affine=True, track_running_stats=True)\n",
       "            (2): SiLU(inplace=True)\n",
       "          )\n",
       "          (1): Conv2dNormActivation(\n",
       "            (0): Conv2d(1152, 1152, kernel_size=(5, 5), stride=(1, 1), padding=(2, 2), groups=1152, bias=False)\n",
       "            (1): BatchNorm2d(1152, eps=1e-05, momentum=0.1, affine=True, track_running_stats=True)\n",
       "            (2): SiLU(inplace=True)\n",
       "          )\n",
       "          (2): SqueezeExcitation(\n",
       "            (avgpool): AdaptiveAvgPool2d(output_size=1)\n",
       "            (fc1): Conv2d(1152, 48, kernel_size=(1, 1), stride=(1, 1))\n",
       "            (fc2): Conv2d(48, 1152, kernel_size=(1, 1), stride=(1, 1))\n",
       "            (activation): SiLU(inplace=True)\n",
       "            (scale_activation): Sigmoid()\n",
       "          )\n",
       "          (3): Conv2dNormActivation(\n",
       "            (0): Conv2d(1152, 192, kernel_size=(1, 1), stride=(1, 1), bias=False)\n",
       "            (1): BatchNorm2d(192, eps=1e-05, momentum=0.1, affine=True, track_running_stats=True)\n",
       "          )\n",
       "        )\n",
       "        (stochastic_depth): StochasticDepth(p=0.1565217391304348, mode=row)\n",
       "      )\n",
       "      (3): MBConv(\n",
       "        (block): Sequential(\n",
       "          (0): Conv2dNormActivation(\n",
       "            (0): Conv2d(192, 1152, kernel_size=(1, 1), stride=(1, 1), bias=False)\n",
       "            (1): BatchNorm2d(1152, eps=1e-05, momentum=0.1, affine=True, track_running_stats=True)\n",
       "            (2): SiLU(inplace=True)\n",
       "          )\n",
       "          (1): Conv2dNormActivation(\n",
       "            (0): Conv2d(1152, 1152, kernel_size=(5, 5), stride=(1, 1), padding=(2, 2), groups=1152, bias=False)\n",
       "            (1): BatchNorm2d(1152, eps=1e-05, momentum=0.1, affine=True, track_running_stats=True)\n",
       "            (2): SiLU(inplace=True)\n",
       "          )\n",
       "          (2): SqueezeExcitation(\n",
       "            (avgpool): AdaptiveAvgPool2d(output_size=1)\n",
       "            (fc1): Conv2d(1152, 48, kernel_size=(1, 1), stride=(1, 1))\n",
       "            (fc2): Conv2d(48, 1152, kernel_size=(1, 1), stride=(1, 1))\n",
       "            (activation): SiLU(inplace=True)\n",
       "            (scale_activation): Sigmoid()\n",
       "          )\n",
       "          (3): Conv2dNormActivation(\n",
       "            (0): Conv2d(1152, 192, kernel_size=(1, 1), stride=(1, 1), bias=False)\n",
       "            (1): BatchNorm2d(192, eps=1e-05, momentum=0.1, affine=True, track_running_stats=True)\n",
       "          )\n",
       "        )\n",
       "        (stochastic_depth): StochasticDepth(p=0.16521739130434784, mode=row)\n",
       "      )\n",
       "      (4): MBConv(\n",
       "        (block): Sequential(\n",
       "          (0): Conv2dNormActivation(\n",
       "            (0): Conv2d(192, 1152, kernel_size=(1, 1), stride=(1, 1), bias=False)\n",
       "            (1): BatchNorm2d(1152, eps=1e-05, momentum=0.1, affine=True, track_running_stats=True)\n",
       "            (2): SiLU(inplace=True)\n",
       "          )\n",
       "          (1): Conv2dNormActivation(\n",
       "            (0): Conv2d(1152, 1152, kernel_size=(5, 5), stride=(1, 1), padding=(2, 2), groups=1152, bias=False)\n",
       "            (1): BatchNorm2d(1152, eps=1e-05, momentum=0.1, affine=True, track_running_stats=True)\n",
       "            (2): SiLU(inplace=True)\n",
       "          )\n",
       "          (2): SqueezeExcitation(\n",
       "            (avgpool): AdaptiveAvgPool2d(output_size=1)\n",
       "            (fc1): Conv2d(1152, 48, kernel_size=(1, 1), stride=(1, 1))\n",
       "            (fc2): Conv2d(48, 1152, kernel_size=(1, 1), stride=(1, 1))\n",
       "            (activation): SiLU(inplace=True)\n",
       "            (scale_activation): Sigmoid()\n",
       "          )\n",
       "          (3): Conv2dNormActivation(\n",
       "            (0): Conv2d(1152, 192, kernel_size=(1, 1), stride=(1, 1), bias=False)\n",
       "            (1): BatchNorm2d(192, eps=1e-05, momentum=0.1, affine=True, track_running_stats=True)\n",
       "          )\n",
       "        )\n",
       "        (stochastic_depth): StochasticDepth(p=0.17391304347826086, mode=row)\n",
       "      )\n",
       "    )\n",
       "    (7): Sequential(\n",
       "      (0): MBConv(\n",
       "        (block): Sequential(\n",
       "          (0): Conv2dNormActivation(\n",
       "            (0): Conv2d(192, 1152, kernel_size=(1, 1), stride=(1, 1), bias=False)\n",
       "            (1): BatchNorm2d(1152, eps=1e-05, momentum=0.1, affine=True, track_running_stats=True)\n",
       "            (2): SiLU(inplace=True)\n",
       "          )\n",
       "          (1): Conv2dNormActivation(\n",
       "            (0): Conv2d(1152, 1152, kernel_size=(3, 3), stride=(1, 1), padding=(1, 1), groups=1152, bias=False)\n",
       "            (1): BatchNorm2d(1152, eps=1e-05, momentum=0.1, affine=True, track_running_stats=True)\n",
       "            (2): SiLU(inplace=True)\n",
       "          )\n",
       "          (2): SqueezeExcitation(\n",
       "            (avgpool): AdaptiveAvgPool2d(output_size=1)\n",
       "            (fc1): Conv2d(1152, 48, kernel_size=(1, 1), stride=(1, 1))\n",
       "            (fc2): Conv2d(48, 1152, kernel_size=(1, 1), stride=(1, 1))\n",
       "            (activation): SiLU(inplace=True)\n",
       "            (scale_activation): Sigmoid()\n",
       "          )\n",
       "          (3): Conv2dNormActivation(\n",
       "            (0): Conv2d(1152, 320, kernel_size=(1, 1), stride=(1, 1), bias=False)\n",
       "            (1): BatchNorm2d(320, eps=1e-05, momentum=0.1, affine=True, track_running_stats=True)\n",
       "          )\n",
       "        )\n",
       "        (stochastic_depth): StochasticDepth(p=0.1826086956521739, mode=row)\n",
       "      )\n",
       "      (1): MBConv(\n",
       "        (block): Sequential(\n",
       "          (0): Conv2dNormActivation(\n",
       "            (0): Conv2d(320, 1920, kernel_size=(1, 1), stride=(1, 1), bias=False)\n",
       "            (1): BatchNorm2d(1920, eps=1e-05, momentum=0.1, affine=True, track_running_stats=True)\n",
       "            (2): SiLU(inplace=True)\n",
       "          )\n",
       "          (1): Conv2dNormActivation(\n",
       "            (0): Conv2d(1920, 1920, kernel_size=(3, 3), stride=(1, 1), padding=(1, 1), groups=1920, bias=False)\n",
       "            (1): BatchNorm2d(1920, eps=1e-05, momentum=0.1, affine=True, track_running_stats=True)\n",
       "            (2): SiLU(inplace=True)\n",
       "          )\n",
       "          (2): SqueezeExcitation(\n",
       "            (avgpool): AdaptiveAvgPool2d(output_size=1)\n",
       "            (fc1): Conv2d(1920, 80, kernel_size=(1, 1), stride=(1, 1))\n",
       "            (fc2): Conv2d(80, 1920, kernel_size=(1, 1), stride=(1, 1))\n",
       "            (activation): SiLU(inplace=True)\n",
       "            (scale_activation): Sigmoid()\n",
       "          )\n",
       "          (3): Conv2dNormActivation(\n",
       "            (0): Conv2d(1920, 320, kernel_size=(1, 1), stride=(1, 1), bias=False)\n",
       "            (1): BatchNorm2d(320, eps=1e-05, momentum=0.1, affine=True, track_running_stats=True)\n",
       "          )\n",
       "        )\n",
       "        (stochastic_depth): StochasticDepth(p=0.19130434782608696, mode=row)\n",
       "      )\n",
       "    )\n",
       "    (8): Conv2dNormActivation(\n",
       "      (0): Conv2d(320, 1280, kernel_size=(1, 1), stride=(1, 1), bias=False)\n",
       "      (1): BatchNorm2d(1280, eps=1e-05, momentum=0.1, affine=True, track_running_stats=True)\n",
       "      (2): SiLU(inplace=True)\n",
       "    )\n",
       "  )\n",
       "  (avgpool): AdaptiveAvgPool2d(output_size=1)\n",
       "  (classifier): Sequential(\n",
       "    (0): Dropout(p=0.2, inplace=True)\n",
       "    (1): Linear(in_features=1280, out_features=256, bias=True)\n",
       "  )\n",
       ")"
      ]
     },
     "execution_count": 32,
     "metadata": {},
     "output_type": "execute_result"
    }
   ],
   "source": [
    "model.model"
   ]
  },
  {
   "cell_type": "code",
   "execution_count": 33,
   "id": "6b600404-ca36-4abe-a235-9eddf826fbb2",
   "metadata": {},
   "outputs": [],
   "source": [
    "from torchmetrics.functional import pairwise_cosine_similarity"
   ]
  },
  {
   "cell_type": "code",
   "execution_count": null,
   "id": "f0067420-64c8-4a12-8b7b-e674bd2e2bc5",
   "metadata": {},
   "outputs": [],
   "source": []
  },
  {
   "cell_type": "code",
   "execution_count": null,
   "id": "249e5b16-9827-4fd9-a4b3-14abc10d9306",
   "metadata": {},
   "outputs": [
    {
     "data": {
      "application/vnd.jupyter.widget-view+json": {
       "model_id": "893030cbc2564921bea1d9a443379887",
       "version_major": 2,
       "version_minor": 0
      },
      "text/plain": [
       "  0%|          | 0/117 [00:00<?, ?it/s]"
      ]
     },
     "metadata": {},
     "output_type": "display_data"
    }
   ],
   "source": [
    "yy_hat, yy_true = [], []\n",
    "        \n",
    "model.cpu()\n",
    "for val_batch in tqdm(test_loader):\n",
    "    x, y = val_batch\n",
    "    emb = model.forward(x)\n",
    "    loss = model.loss_func(emb, y)\n",
    "\n",
    "    emb = F.normalize(emb.cpu())\n",
    "    dist = torch.cosine_similarity(emb[:, None,...], \n",
    "                                   emb[None,...], dim=-1).detach().numpy()\n",
    "    # dist = pairwise_cosine_similarity(emb).detach().numpy()\n",
    "    print(emb)\n",
    "    sns.heatmap(dist)\n",
    "    # plt.show()\n",
    "\n",
    "    yy_hat.append(dist)\n",
    "    yy_true.append(y)\n",
    "    \n",
    "    \n",
    "\n",
    "yy_hat = torch.vstack(yy_hat)\n",
    "yy_true = torch.hstack(yy_true)"
   ]
  },
  {
   "cell_type": "code",
   "execution_count": null,
   "id": "b7ce603d-070a-4a9b-ae80-ebb2564e071e",
   "metadata": {
    "scrolled": true,
    "tags": []
   },
   "outputs": [],
   "source": []
  },
  {
   "cell_type": "code",
   "execution_count": null,
   "id": "32618065-bcad-49ce-9f0f-1212ac216f5a",
   "metadata": {},
   "outputs": [],
   "source": [
    "ds = ImageFolder('gestures/')\n",
    "\n",
    "def get_image_from_ind(ind, ds=ds):\n",
    "    \"\"\"A function that gets a URL of an image, \n",
    "    and returns a numpy image and a preprocessed\n",
    "    torch tensor ready to pass to the model \"\"\"\n",
    "\n",
    "    img = np.array(ds[ind][0])\n",
    "    img = cv2.resize(img, (256, 256))\n",
    "    rgb_img_float = np.float32(img) / 255\n",
    "    input_tensor = preprocess_image(rgb_img_float,\n",
    "                                   mean=[0.485, 0.456, 0.406],\n",
    "                                   std=[0.229, 0.224, 0.225])\n",
    "    return img, rgb_img_float, input_tensor\n",
    "\n",
    "\n",
    "    \n",
    "model = torch.load(f'{cnn_model_name}_{num_classes}cls_arcface{EMB_SIZE}.ckpt')\n",
    "target_layers = [model.features[-9]]"
   ]
  },
  {
   "cell_type": "code",
   "execution_count": null,
   "id": "eab7aeb6-68d6-416a-94a3-a4152e9aa6b5",
   "metadata": {},
   "outputs": [],
   "source": [
    "len(model.features)"
   ]
  },
  {
   "cell_type": "code",
   "execution_count": null,
   "id": "6758d48a-f744-4990-9f30-a004e3995714",
   "metadata": {},
   "outputs": [],
   "source": [
    "# Where is the car in the image\n",
    "for target_id in [0,2,4]:\n",
    "    ttensor = train_ds[target_id][0][None, ...]\n",
    "    concept_features = model(ttensor)[0, :]\n",
    "    targets = [SimilarityToConceptTarget(concept_features)]\n",
    "    for i in [10,20,40]:\n",
    "        input_tensor = train_ds[i][0][None, ...]\n",
    "        image_float = train_ds[i][0].numpy().transpose(1,2,0)\n",
    "        print(image_float.shape)\n",
    "        image_float -= image_float.min()\n",
    "        image_float /= image_float.max()\n",
    "        with GradCAM(model=model,\n",
    "                     target_layers=target_layers,\n",
    "                     use_cuda=False) as cam:\n",
    "            grayscale_cam = cam(input_tensor=input_tensor,\n",
    "                                targets=targets)[0, :]\n",
    "        cam_image = show_cam_on_image(image_float, grayscale_cam, use_rgb=True)\n",
    "        plt.imshow(cam_image)\n",
    "        plt.show()"
   ]
  },
  {
   "cell_type": "code",
   "execution_count": null,
   "id": "cf4bda22-3b41-407a-9e65-b72b3fe43c18",
   "metadata": {},
   "outputs": [],
   "source": []
  },
  {
   "cell_type": "code",
   "execution_count": null,
   "id": "5c587fa8-efe3-416d-8a43-8a3a659b6279",
   "metadata": {},
   "outputs": [],
   "source": []
  }
 ],
 "metadata": {
  "kernelspec": {
   "display_name": "Python 3 (ipykernel)",
   "language": "python",
   "name": "python3"
  },
  "language_info": {
   "codemirror_mode": {
    "name": "ipython",
    "version": 3
   },
   "file_extension": ".py",
   "mimetype": "text/x-python",
   "name": "python",
   "nbconvert_exporter": "python",
   "pygments_lexer": "ipython3",
   "version": "3.10.6"
  }
 },
 "nbformat": 4,
 "nbformat_minor": 5
}
